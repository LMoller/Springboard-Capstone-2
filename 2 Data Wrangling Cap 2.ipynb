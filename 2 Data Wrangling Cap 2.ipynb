{
 "cells": [
  {
   "cell_type": "markdown",
   "metadata": {},
   "source": [
    "Data Wrangling is finding, structuring, cleaning and adding to your data, validating and preparing for analysis. I am using the dataset from Stanford's Open Policing Project, so much of the finding/structuring/cleaning/validating was already finished.\n",
    "\n",
    "To get a sense of the data, I will count rows, count features, detail the type of each feature, signify whether the features have categorical data, and look for missing values."
   ]
  },
  {
   "cell_type": "code",
   "execution_count": 1,
   "metadata": {
    "collapsed": true
   },
   "outputs": [],
   "source": [
    "import pandas as pd"
   ]
  },
  {
   "cell_type": "code",
   "execution_count": 2,
   "metadata": {},
   "outputs": [
    {
     "name": "stderr",
     "output_type": "stream",
     "text": [
      "/anaconda2/lib/python2.7/site-packages/IPython/core/interactiveshell.py:2718: DtypeWarning: Columns (19,20,21) have mixed types. Specify dtype option on import or set low_memory=False.\n",
      "  interactivity=interactivity, compiler=compiler, result=result)\n"
     ]
    },
    {
     "name": "stdout",
     "output_type": "stream",
     "text": [
      "(2584744, 26)\n"
     ]
    },
    {
     "data": {
      "text/html": [
       "<div>\n",
       "<style>\n",
       "    .dataframe thead tr:only-child th {\n",
       "        text-align: right;\n",
       "    }\n",
       "\n",
       "    .dataframe thead th {\n",
       "        text-align: left;\n",
       "    }\n",
       "\n",
       "    .dataframe tbody tr th {\n",
       "        vertical-align: top;\n",
       "    }\n",
       "</style>\n",
       "<table border=\"1\" class=\"dataframe\">\n",
       "  <thead>\n",
       "    <tr style=\"text-align: right;\">\n",
       "      <th></th>\n",
       "      <th>id</th>\n",
       "      <th>state</th>\n",
       "      <th>stop_date</th>\n",
       "      <th>stop_time</th>\n",
       "      <th>location_raw</th>\n",
       "      <th>county_name</th>\n",
       "      <th>county_fips</th>\n",
       "      <th>fine_grained_location</th>\n",
       "      <th>police_department</th>\n",
       "      <th>driver_gender</th>\n",
       "      <th>...</th>\n",
       "      <th>search_conducted</th>\n",
       "      <th>search_type_raw</th>\n",
       "      <th>search_type</th>\n",
       "      <th>contraband_found</th>\n",
       "      <th>stop_outcome</th>\n",
       "      <th>is_arrested</th>\n",
       "      <th>officer_id</th>\n",
       "      <th>officer_gender</th>\n",
       "      <th>vehicle_type</th>\n",
       "      <th>out_of_state</th>\n",
       "    </tr>\n",
       "  </thead>\n",
       "  <tbody>\n",
       "    <tr>\n",
       "      <th>0</th>\n",
       "      <td>CO-2010-000001</td>\n",
       "      <td>CO</td>\n",
       "      <td>2010-01-01</td>\n",
       "      <td>00:00</td>\n",
       "      <td>10.0</td>\n",
       "      <td>Arapahoe County</td>\n",
       "      <td>8005.0</td>\n",
       "      <td>289</td>\n",
       "      <td>Golden</td>\n",
       "      <td>F</td>\n",
       "      <td>...</td>\n",
       "      <td>False</td>\n",
       "      <td>NaN</td>\n",
       "      <td>NaN</td>\n",
       "      <td>False</td>\n",
       "      <td>Verbal Warning</td>\n",
       "      <td>False</td>\n",
       "      <td>1024976.0</td>\n",
       "      <td>M</td>\n",
       "      <td>NA NA 0</td>\n",
       "      <td>False</td>\n",
       "    </tr>\n",
       "    <tr>\n",
       "      <th>1</th>\n",
       "      <td>CO-2010-000002</td>\n",
       "      <td>CO</td>\n",
       "      <td>2010-01-01</td>\n",
       "      <td>00:01</td>\n",
       "      <td>4.0</td>\n",
       "      <td>El Paso County</td>\n",
       "      <td>8041.0</td>\n",
       "      <td>3</td>\n",
       "      <td>Colorado Springs</td>\n",
       "      <td>F</td>\n",
       "      <td>...</td>\n",
       "      <td>False</td>\n",
       "      <td>NaN</td>\n",
       "      <td>NaN</td>\n",
       "      <td>False</td>\n",
       "      <td>Verbal Warning</td>\n",
       "      <td>False</td>\n",
       "      <td>1069803.0</td>\n",
       "      <td>NaN</td>\n",
       "      <td>NA NA 0</td>\n",
       "      <td>False</td>\n",
       "    </tr>\n",
       "    <tr>\n",
       "      <th>2</th>\n",
       "      <td>CO-2010-000003</td>\n",
       "      <td>CO</td>\n",
       "      <td>2010-01-01</td>\n",
       "      <td>00:01</td>\n",
       "      <td>24.0</td>\n",
       "      <td>Garfield County</td>\n",
       "      <td>8045.0</td>\n",
       "      <td>3</td>\n",
       "      <td>Glenwood Springs</td>\n",
       "      <td>M</td>\n",
       "      <td>...</td>\n",
       "      <td>False</td>\n",
       "      <td>NaN</td>\n",
       "      <td>NaN</td>\n",
       "      <td>False</td>\n",
       "      <td>Verbal Warning</td>\n",
       "      <td>False</td>\n",
       "      <td>1198321.0</td>\n",
       "      <td>M</td>\n",
       "      <td>NA NA 0</td>\n",
       "      <td>False</td>\n",
       "    </tr>\n",
       "    <tr>\n",
       "      <th>3</th>\n",
       "      <td>CO-2010-000004</td>\n",
       "      <td>CO</td>\n",
       "      <td>2010-01-01</td>\n",
       "      <td>00:02</td>\n",
       "      <td>19.0</td>\n",
       "      <td>Yuma County</td>\n",
       "      <td>8125.0</td>\n",
       "      <td>NaN</td>\n",
       "      <td>Sterling</td>\n",
       "      <td>M</td>\n",
       "      <td>...</td>\n",
       "      <td>False</td>\n",
       "      <td>NaN</td>\n",
       "      <td>NaN</td>\n",
       "      <td>False</td>\n",
       "      <td>Citation</td>\n",
       "      <td>False</td>\n",
       "      <td>1167059.0</td>\n",
       "      <td>NaN</td>\n",
       "      <td>Ford F-250 2003</td>\n",
       "      <td>False</td>\n",
       "    </tr>\n",
       "    <tr>\n",
       "      <th>4</th>\n",
       "      <td>CO-2010-000005</td>\n",
       "      <td>CO</td>\n",
       "      <td>2010-01-01</td>\n",
       "      <td>00:02</td>\n",
       "      <td>11.0</td>\n",
       "      <td>Jefferson County</td>\n",
       "      <td>8059.0</td>\n",
       "      <td>NaN</td>\n",
       "      <td>6A</td>\n",
       "      <td>F</td>\n",
       "      <td>...</td>\n",
       "      <td>False</td>\n",
       "      <td>NaN</td>\n",
       "      <td>NaN</td>\n",
       "      <td>False</td>\n",
       "      <td>Written Warning</td>\n",
       "      <td>False</td>\n",
       "      <td>1300790.0</td>\n",
       "      <td>NaN</td>\n",
       "      <td>Oldsmobile Intrigue 1999</td>\n",
       "      <td>False</td>\n",
       "    </tr>\n",
       "  </tbody>\n",
       "</table>\n",
       "<p>5 rows × 26 columns</p>\n",
       "</div>"
      ],
      "text/plain": [
       "               id state   stop_date stop_time  location_raw       county_name  \\\n",
       "0  CO-2010-000001    CO  2010-01-01     00:00          10.0   Arapahoe County   \n",
       "1  CO-2010-000002    CO  2010-01-01     00:01           4.0    El Paso County   \n",
       "2  CO-2010-000003    CO  2010-01-01     00:01          24.0   Garfield County   \n",
       "3  CO-2010-000004    CO  2010-01-01     00:02          19.0       Yuma County   \n",
       "4  CO-2010-000005    CO  2010-01-01     00:02          11.0  Jefferson County   \n",
       "\n",
       "   county_fips fine_grained_location police_department driver_gender  \\\n",
       "0       8005.0                   289            Golden             F   \n",
       "1       8041.0                     3  Colorado Springs             F   \n",
       "2       8045.0                     3  Glenwood Springs             M   \n",
       "3       8125.0                   NaN          Sterling             M   \n",
       "4       8059.0                   NaN                6A             F   \n",
       "\n",
       "      ...      search_conducted  search_type_raw search_type contraband_found  \\\n",
       "0     ...                 False              NaN         NaN            False   \n",
       "1     ...                 False              NaN         NaN            False   \n",
       "2     ...                 False              NaN         NaN            False   \n",
       "3     ...                 False              NaN         NaN            False   \n",
       "4     ...                 False              NaN         NaN            False   \n",
       "\n",
       "      stop_outcome is_arrested  officer_id officer_gender  \\\n",
       "0   Verbal Warning       False   1024976.0              M   \n",
       "1   Verbal Warning       False   1069803.0            NaN   \n",
       "2   Verbal Warning       False   1198321.0              M   \n",
       "3         Citation       False   1167059.0            NaN   \n",
       "4  Written Warning       False   1300790.0            NaN   \n",
       "\n",
       "               vehicle_type out_of_state  \n",
       "0                   NA NA 0        False  \n",
       "1                   NA NA 0        False  \n",
       "2                   NA NA 0        False  \n",
       "3           Ford F-250 2003        False  \n",
       "4  Oldsmobile Intrigue 1999        False  \n",
       "\n",
       "[5 rows x 26 columns]"
      ]
     },
     "execution_count": 2,
     "metadata": {},
     "output_type": "execute_result"
    }
   ],
   "source": [
    "# Read in the file and look at the first five rows\n",
    "colorado = pd.read_table('CO_cleaned.csv',sep=',')\n",
    "print(colorado.shape)\n",
    "colorado.head()"
   ]
  },
  {
   "cell_type": "markdown",
   "metadata": {},
   "source": [
    "**id** - The unique ID we assign to each stop. Contains the state and year.\n",
    "\n",
    "**state** - The two-letter code for the state in which the stop occurred\n",
    "\n",
    "**stop_date** - The date of the stop, in YYYY-MM-DD format. Some states do not provide the exact stop date: for example, they only provide the year or quarter in which the stop occurred. For these states, stop_date is set to the date at the beginning of the period: for example, January 1 if only year is provided.\n",
    "\n",
    "**stop_time** - The 24-hour time of the stop, in HH:MM format.\n",
    "\n",
    "**location_raw** - The original data value from which we compute the county (or comparably granular location) in which the stop occurred. Not in a standardized format across states.\n",
    "\n",
    "**county_name** - The standardized name of the county in which the stop occurred.\n",
    "\n",
    "**county_fips** - The standardized 5-digit FIPS code in which the stop occurred.\n",
    "\n",
    "**district** - In several states (e.g., Illinois) the stop county cannot be inferred, but a comparably granular location can. This comparably granular location is stored in the district column. Most states do not have this column.\n",
    "\n",
    "**fine_grained_location** - Any higher-resolution data about where the stop occurred: e.g., milepost or address. Not standardized across states.\n",
    "\n",
    "**police_department** - The police department or agency that made the stop. Not in a standard format across states.\n",
    "\n",
    "**driver_gender** - The driver’s gender, as recorded by the trooper. M, F, or NA.\n",
    "\n",
    "**driver_age_raw** - The original data value from which we compute the driver’s age when they were stopped. May be age, birth year, or birth date. Not in a standard format across states.\n",
    "\n",
    "**driver_age** - The driver’s age when they were stopped. Set to NA if less than 15 or greater than or equal to 100.\n",
    "\n",
    "**driver_race_raw** - The original data value from which the driver’s standardized race is computed. Not in a standard format across states.\n",
    "\n",
    "**driver_race** - The standardized driver race. Possible values are White, Black, Hispanic, Asian, Other, and NA, with NA denoting values which are unknown. Asian refers to Asian, Pacific Islander, and Indian. Native Americans/American Indians are included in the \"other\" category. Anyone with Hispanic ethnicity is classified as Hispanic, regardless of their recorded race.\n",
    "\n",
    "**violation_raw** - The violation committed by the driver, in the language of the original data. Not in a standard format across states. Some stops have multiple violations.\n",
    "\n",
    "**violation** - The violation committed by the driver, standardized into categories that are consistent across states.\n",
    "\n",
    "**search_conducted** - A TRUE/FALSE value indicating whether a search was performed.\n",
    "\n",
    "**search_type_raw** - The justification for the search, in the language of the original data. NA if no search was performed. Not in a standard format across states. Some states have multiple justifications for a search. \n",
    "\n",
    "**search_type** - The normalized justification for the search. Where possible, this is standardized into categories which are consistent across states. For example, if something is clearly a consent search, search_type is referred to as “Consent”. \n",
    "\n",
    "**contraband_found** - A TRUE/FALSE value indicating whether a search was performed and contraband was found. FALSE if no search was performed. \n",
    "\n",
    "**stop_outcome** - The outcome of the stop. Many states have idiosyncratic outcomes — for example, “CHP 215” in California — so this column is not standardized across states. “Citation” and “Warning” are the values which occur most commonly across states. If the stop has multiple outcomes, the most severe outcome is used. For example, if a stop resulted in a citation and a warning, stop_outcome would be “Citation”. \n",
    "\n",
    "**is_arrested** - A TRUE/FALSE value indicating whether an arrest was made.\n",
    "\n",
    "**officer_id**\n",
    "\n",
    "**officer_gender**\n",
    "\n",
    "**vehicle_type**\n",
    "\n",
    "**out_of_state**\n",
    "\n",
    "*For several fields (e.g., driver_race) we include a \"raw\" column which records the original data values from which we infer standardized values. For example, driver_race_raw might be “White Hispanic” which we code as “Hispanic” in the standardized driver_race field. We include the raw columns because our data processing pipeline is extensive, requiring judgment calls and subjective decisions. We aim to make our data processing as transparent as possible. Other analysts may choose to process the raw data differently if their needs or judgments differ.* (https://github.com/5harad/openpolicing/blob/master/DATA-README.md)"
   ]
  },
  {
   "cell_type": "code",
   "execution_count": 3,
   "metadata": {},
   "outputs": [
    {
     "name": "stdout",
     "output_type": "stream",
     "text": [
      "(2584744, 18)\n"
     ]
    }
   ],
   "source": [
    "# Drop the raw columns and other duplicative columns.\n",
    "colorado.drop(['state','location_raw','driver_age_raw','driver_race_raw','violation_raw','search_type_raw',\n",
    "               'county_fips','fine_grained_location'],axis=1, inplace = True)\n",
    "print(colorado.shape)"
   ]
  },
  {
   "cell_type": "code",
   "execution_count": 4,
   "metadata": {},
   "outputs": [
    {
     "data": {
      "text/plain": [
       "id                    object\n",
       "stop_date             object\n",
       "stop_time             object\n",
       "county_name           object\n",
       "police_department     object\n",
       "driver_gender         object\n",
       "driver_age           float64\n",
       "driver_race           object\n",
       "violation             object\n",
       "search_conducted        bool\n",
       "search_type           object\n",
       "contraband_found      object\n",
       "stop_outcome          object\n",
       "is_arrested           object\n",
       "officer_id           float64\n",
       "officer_gender        object\n",
       "vehicle_type          object\n",
       "out_of_state          object\n",
       "dtype: object"
      ]
     },
     "execution_count": 4,
     "metadata": {},
     "output_type": "execute_result"
    }
   ],
   "source": [
    "# Type of value for each column\n",
    "colorado.dtypes"
   ]
  },
  {
   "cell_type": "code",
   "execution_count": 5,
   "metadata": {
    "collapsed": true
   },
   "outputs": [],
   "source": [
    "# I don't think I have to do this\n",
    "# Change some columns to strings\n",
    "#colorado[['id','state','county_name','police_department','driver_gender','driver_race','violation','search_type',\n",
    "#          'stop_outcome','officer_gender','vehicle_type']] = colorado[['id','state','county_name','police_department',\n",
    " #                                                     'driver_gender','driver_race','violation','search_type',\n",
    " #                                                     'stop_outcome','officer_gender','vehicle_type']].astype(str)"
   ]
  },
  {
   "cell_type": "code",
   "execution_count": 6,
   "metadata": {
    "collapsed": true
   },
   "outputs": [],
   "source": [
    "# Change stop_date and stop_time columns to datetime format\n",
    "# https://stackoverflow.com/questions/15891038/change-data-type-of-columns-in-pandas\n",
    "colorado['stop_date'] = pd.to_datetime(colorado['stop_date'])\n",
    "colorado['stop_time'] = pd.to_datetime(colorado['stop_time'])"
   ]
  },
  {
   "cell_type": "code",
   "execution_count": 7,
   "metadata": {
    "collapsed": true
   },
   "outputs": [],
   "source": [
    "# Change three columns to boolean\n",
    "colorado[['contraband_found','is_arrested','out_of_state']] = colorado[['contraband_found','is_arrested',\n",
    "                                                                        'out_of_state']].astype(bool)"
   ]
  },
  {
   "cell_type": "code",
   "execution_count": 8,
   "metadata": {},
   "outputs": [
    {
     "data": {
      "text/plain": [
       "id                           object\n",
       "stop_date            datetime64[ns]\n",
       "stop_time            datetime64[ns]\n",
       "county_name                  object\n",
       "police_department            object\n",
       "driver_gender                object\n",
       "driver_age                  float64\n",
       "driver_race                  object\n",
       "violation                    object\n",
       "search_conducted               bool\n",
       "search_type                  object\n",
       "contraband_found               bool\n",
       "stop_outcome                 object\n",
       "is_arrested                    bool\n",
       "officer_id                  float64\n",
       "officer_gender               object\n",
       "vehicle_type                 object\n",
       "out_of_state                   bool\n",
       "dtype: object"
      ]
     },
     "execution_count": 8,
     "metadata": {},
     "output_type": "execute_result"
    }
   ],
   "source": [
    "# Type of value for each column\n",
    "colorado.dtypes"
   ]
  },
  {
   "cell_type": "markdown",
   "metadata": {},
   "source": [
    "Almost all columns are categorical. The exceptions are the 'id' column, and the stop_date and stop_time."
   ]
  },
  {
   "cell_type": "code",
   "execution_count": 9,
   "metadata": {},
   "outputs": [
    {
     "data": {
      "text/plain": [
       "id                         0\n",
       "stop_date                  3\n",
       "stop_time                  0\n",
       "county_name               27\n",
       "police_department       4688\n",
       "driver_gender         368416\n",
       "driver_age            396639\n",
       "driver_race           399256\n",
       "violation             458176\n",
       "search_conducted           0\n",
       "search_type          2575920\n",
       "contraband_found           0\n",
       "stop_outcome         1288442\n",
       "is_arrested                0\n",
       "officer_id                 2\n",
       "officer_gender       1594782\n",
       "vehicle_type               0\n",
       "out_of_state               0\n",
       "dtype: int64"
      ]
     },
     "execution_count": 9,
     "metadata": {},
     "output_type": "execute_result"
    }
   ],
   "source": [
    "# Count the number of null values in each column. In total there are 2,584,744 rows.\n",
    "colorado.isnull().sum()"
   ]
  },
  {
   "cell_type": "code",
   "execution_count": 10,
   "metadata": {},
   "outputs": [
    {
     "data": {
      "text/plain": [
       "array(['Verbal Warning', 'Citation', 'Written Warning', 'Arrest', nan], dtype=object)"
      ]
     },
     "execution_count": 10,
     "metadata": {},
     "output_type": "execute_result"
    }
   ],
   "source": [
    "colorado['stop_outcome'].unique()"
   ]
  },
  {
   "cell_type": "markdown",
   "metadata": {},
   "source": [
    "With so many null values in the stop_outcome column (1,288,442), almost half of the total values, we were interested to see what the unique values were. There are only four other values, which is not going to be a problem."
   ]
  },
  {
   "cell_type": "code",
   "execution_count": 12,
   "metadata": {},
   "outputs": [
    {
     "data": {
      "text/plain": [
       "id                   2584744\n",
       "stop_date               2289\n",
       "stop_time               1440\n",
       "county_name               65\n",
       "police_department         54\n",
       "driver_gender              3\n",
       "driver_age                86\n",
       "driver_race                6\n",
       "violation               1953\n",
       "search_conducted           2\n",
       "search_type                4\n",
       "contraband_found           2\n",
       "stop_outcome               5\n",
       "is_arrested                2\n",
       "officer_id           2564338\n",
       "officer_gender             6\n",
       "vehicle_type          154137\n",
       "out_of_state               2\n",
       "dtype: int64"
      ]
     },
     "execution_count": 12,
     "metadata": {},
     "output_type": "execute_result"
    }
   ],
   "source": [
    "# Count the number of unique values in each column\n",
    "colorado.apply(lambda x: len(x.unique()))"
   ]
  },
  {
   "cell_type": "markdown",
   "metadata": {},
   "source": [
    "The 'violation' and the 'vehicle_type' have quite a lot of unique values. We will still try and expand the categorical columns to use indicator variables, so it will be interesting to see how models handle the large amount of information.\n",
    "\n",
    "We will leave the null values as is for now. Once we have performed some exploratory data analysis, we will be better able to decide what to do with the values. Many we will be able to convert to an 'other' value.\n",
    "\n",
    "In terms of the clustering model, we may only use the features up through the stop, so some of the null values may not matter anyway, such as the stop_outcome. We still want to have all features in the exploratory protion though."
   ]
  },
  {
   "cell_type": "code",
   "execution_count": null,
   "metadata": {
    "collapsed": true
   },
   "outputs": [],
   "source": []
  }
 ],
 "metadata": {
  "kernelspec": {
   "display_name": "Python 2",
   "language": "python",
   "name": "python2"
  },
  "language_info": {
   "codemirror_mode": {
    "name": "ipython",
    "version": 2
   },
   "file_extension": ".py",
   "mimetype": "text/x-python",
   "name": "python",
   "nbconvert_exporter": "python",
   "pygments_lexer": "ipython2",
   "version": "2.7.13"
  }
 },
 "nbformat": 4,
 "nbformat_minor": 2
}
