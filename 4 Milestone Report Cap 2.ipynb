{
 "cells": [
  {
   "cell_type": "markdown",
   "metadata": {},
   "source": [
    "### Define the Problem\n",
    "\n",
    "One of the most common interactions between police and the public are traffic stops. With over 50,000 stops per day in the United States, there is a lot of data to track, and analyze, to have a better idea of who is being stopped, why they were stopped and what the outcome was. This information is helpful to know to understand if resources are being used wisely, and to draw attention to conscious or unconscious biases in police behavior. I will look specifically at Colorado traffic stop data.\n"
   ]
  },
  {
   "cell_type": "markdown",
   "metadata": {},
   "source": [
    "### Identify Your Client\n",
    "\n",
    "There are two groups who may be clients for this type of analysis, government watchdog groups, and police departments. Government watchdog groups would use the analysis to raise awareness for issues found. Police Departments may invest in the analysis to ensure resources are being used wisely and to proactively combat any biases through trainings or other necessary actions."
   ]
  },
  {
   "cell_type": "markdown",
   "metadata": {},
   "source": [
    "### Describe Your Data Set, and How You Cleaned/Wrangled It\n",
    "\n",
    "I am using the dataset from Stanford's Open Policing Project, so much of the finding/structuring/cleaning/validating was already finished. To get a sense of the data, I counted rows and features, detailed the type of each feature, signified whether the features have categorical data, and looked for missing values."
   ]
  },
  {
   "cell_type": "markdown",
   "metadata": {},
   "source": [
    "### List Other Potential Data Sets You Could Use\n",
    "\n",
    "It may be possible to use census data to compare the populations who are stopped to the overall population in Colorado. This would tell us if there is a proportional number of stops compared to the overall population."
   ]
  },
  {
   "cell_type": "markdown",
   "metadata": {},
   "source": [
    "### Explain Your Initial Findings\n",
    "\n",
    "There are many columns with null data. We will make many of these null values \"Other\" for the purposes of the model. We will drop search_type because most values are null, and vehicle_type because most values are NA on further inspection.\n",
    "\n",
    "Younger drivers are stopped far more often than older drivers. The top 12 ages of drivers pulled over are 19-30. Over twice as many men are pulled over than women. Although the difference between genders is smaller in the younger (18-33) age range. Men are 60-65% of the stops, while women are 35-40%. The older group split is closer to 70% men and 30% women.\n",
    "\n",
    "The racial breakdown of drivers pulled over tracks very closely with Colorado demographics. Younger Black and Hispanic drivers are pulled over at a higher rate than other races.\n",
    "\n",
    "El Paso and Jefferson Counties have the highest number of traffic stops. These counties contain major interstates.\n",
    "\n",
    "Speeding alone accounts for 36% of traffic stops. There are many violation categories that include several violations.\n",
    "\n",
    "18% of drivers pulled over are from out-of-state. It would be interesting to know how many people on the road are out-of-state drivers.\n",
    "\n",
    "The Golden police department makes most of the traffic stops. Golden is at a main \"entrance\" (several highways) to the mountains where popular ski resorts are located.\n",
    "\n",
    "When looking at whether or not contraband was found during a search by race, one of the most obvious insights is younger black individuals have a fairly large number of searches conducted with no contraband found when compared to other groups.\n",
    "\n",
    "The search rate dropped dramatically in January 2013. This is when recreational marijuana became legal in Colorado."
   ]
  },
  {
   "cell_type": "markdown",
   "metadata": {
    "collapsed": true
   },
   "source": [
    "### Next Steps"
   ]
  },
  {
   "cell_type": "markdown",
   "metadata": {},
   "source": [
    "For my next steps, I will be working on Classification. The Classification will group people who have been stopped in traffic stops to see what patterns there are."
   ]
  },
  {
   "cell_type": "code",
   "execution_count": null,
   "metadata": {
    "collapsed": true
   },
   "outputs": [],
   "source": []
  }
 ],
 "metadata": {
  "kernelspec": {
   "display_name": "Python 2",
   "language": "python",
   "name": "python2"
  },
  "language_info": {
   "codemirror_mode": {
    "name": "ipython",
    "version": 2
   },
   "file_extension": ".py",
   "mimetype": "text/x-python",
   "name": "python",
   "nbconvert_exporter": "python",
   "pygments_lexer": "ipython2",
   "version": "2.7.13"
  }
 },
 "nbformat": 4,
 "nbformat_minor": 2
}
